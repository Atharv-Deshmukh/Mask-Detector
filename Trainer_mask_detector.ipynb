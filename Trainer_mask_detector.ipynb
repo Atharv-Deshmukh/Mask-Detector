{
 "cells": [
  {
   "cell_type": "code",
   "execution_count": null,
   "metadata": {
    "colab": {
     "base_uri": "https://localhost:8080/",
     "height": 34
    },
    "id": "R3PBnE103NkQ",
    "outputId": "2f1d0fc0-cf00-4cf2-a7f9-d30486326d8b"
   },
   "outputs": [],
   "source": [
    "from google.colab import drive\n",
    "drive.mount('/content/drive')"
   ]
  },
  {
   "cell_type": "code",
   "execution_count": null,
   "metadata": {
    "colab": {
     "base_uri": "https://localhost:8080/",
     "height": 34
    },
    "id": "N2TcysDPx6XX",
    "outputId": "ff526851-e79c-4d0f-cf01-85e0164f6ca3"
   },
   "outputs": [],
   "source": [
    "#Including all modules\n",
    "\n",
    "import tensorflow as tf\n",
    "from tensorflow.keras.optimizers import RMSprop\n",
    "from tensorflow.keras.preprocessing.image import ImageDataGenerator\n",
    "import numpy as np\n",
    "from keras.preprocessing import image\n",
    "import keras\n",
    "import matplotlib.pyplot as plt"
   ]
  },
  {
   "cell_type": "code",
   "execution_count": null,
   "metadata": {
    "id": "V6tB1ImZyYP8"
   },
   "outputs": [],
   "source": [
    "#Defining directory for training and testing\n",
    "\n",
    "train_dir = '/content/drive/My Drive/mask detection/Mask Dataset/Train'\n",
    "validation_dir = '/content/drive/My Drive/mask detection/Mask Dataset/Validation'"
   ]
  },
  {
   "cell_type": "code",
   "execution_count": null,
   "metadata": {
    "colab": {
     "base_uri": "https://localhost:8080/",
     "height": 51
    },
    "id": "lxU3TTFAyaT1",
    "outputId": "2f2a3581-8c17-43bc-d1d0-47230650207b"
   },
   "outputs": [],
   "source": [
    "#making data ready to be served to the mode, using datagen\n",
    "\n",
    "train_datagen = ImageDataGenerator(rescale = 1./255.)\n",
    "test_datagen = ImageDataGenerator(rescale=1./255)\n",
    "\n",
    "train_datagen = ImageDataGenerator(rescale = 1./255.,\n",
    "                                   rotation_range = 40,\n",
    "                                   width_shift_range = 0.2,\n",
    "                                   height_shift_range = 0.2,\n",
    "                                   shear_range = 0.2,\n",
    "                                   zoom_range = 0.2,\n",
    "                                   horizontal_flip = True)\n",
    "\n",
    "train_generator = train_datagen.flow_from_directory(train_dir,\n",
    "                                                    batch_size = 10,\n",
    "                                                    class_mode = 'binary', \n",
    "                                                    target_size = (50, 50))     \n",
    "\n",
    "validation_generator =  test_datagen.flow_from_directory( validation_dir,\n",
    "                                                          batch_size  = 10,\n",
    "                                                          class_mode  = 'binary', \n",
    "                                                          target_size = (50, 50))"
   ]
  },
  {
   "cell_type": "code",
   "execution_count": null,
   "metadata": {
    "id": "da4VDzIDyczw"
   },
   "outputs": [],
   "source": [
    "#Making Model Sequencial\n",
    "\n",
    "model = tf.keras.models.Sequential([\n",
    "    tf.keras.layers.Conv2D(32, (3,3), activation='relu', input_shape=(50, 50, 3)),\n",
    "    tf.keras.layers.MaxPooling2D(2, 2),\n",
    "    tf.keras.layers.Conv2D(64, (3,3), activation='relu'),\n",
    "    tf.keras.layers.MaxPooling2D(2,2),\n",
    "    tf.keras.layers.Conv2D(128, (3,3), activation='relu'),\n",
    "    tf.keras.layers.MaxPooling2D(2,2),\n",
    "    tf.keras.layers.Dropout(0.1),\n",
    "    tf.keras.layers.Flatten(),\n",
    "    tf.keras.layers.Dense(512, activation='relu'),\n",
    "    tf.keras.layers.Dense(1, activation='sigmoid')   #We can use softmax also using 2 dense\n",
    "])\n",
    "\n",
    "#Compiling model\n",
    "model.compile(loss='binary_crossentropy',\n",
    "              optimizer=RMSprop(lr=1e-4),\n",
    "              metrics=['accuracy'])"
   ]
  },
  {
   "cell_type": "code",
   "execution_count": null,
   "metadata": {
    "id": "YFsMGPmBye6n"
   },
   "outputs": [],
   "source": [
    "class myCallback(tf.keras.callbacks.Callback):\n",
    "  def on_epoch_end(self, epoch, logs={}):\n",
    "    if(logs.get('accuracy')>0.98):\n",
    "      print(\"\\nReached 98.0% accuracy so cancelling training!\")\n",
    "      self.model.stop_training = True"
   ]
  },
  {
   "cell_type": "code",
   "execution_count": null,
   "metadata": {
    "id": "yQ8pcHvyyhiv"
   },
   "outputs": [],
   "source": [
    "callback = myCallback()"
   ]
  },
  {
   "cell_type": "code",
   "execution_count": null,
   "metadata": {
    "colab": {
     "base_uri": "https://localhost:8080/",
     "height": 834
    },
    "id": "QdHcid1F3JqH",
    "outputId": "74503cc8-bd55-45eb-a332-6c6e17749302"
   },
   "outputs": [],
   "source": [
    "# Model Summary\n",
    "model.summary()\n",
    "keras.utils.plot_model(model, \"Mask Detector.png\")"
   ]
  },
  {
   "cell_type": "code",
   "execution_count": null,
   "metadata": {
    "colab": {
     "base_uri": "https://localhost:8080/",
     "height": 1000
    },
    "id": "yH8DFD6xymxW",
    "outputId": "fb40ac69-afd0-4761-c666-bb086bf0931e"
   },
   "outputs": [],
   "source": [
    "#Trainng model\n",
    "\n",
    "history = model.fit(\n",
    "      train_generator,\n",
    "      steps_per_epoch=75, \n",
    "      epochs=50,\n",
    "      callbacks = [callback],\n",
    "      validation_data=validation_generator,\n",
    "      validation_steps=35\n",
    "      )"
   ]
  },
  {
   "cell_type": "code",
   "execution_count": null,
   "metadata": {
    "id": "_67vx5TezBRN"
   },
   "outputs": [],
   "source": [
    "#Save the model to use it later and to save time next time\n",
    "model.save('maskDetector.h5') "
   ]
  },
  {
   "cell_type": "code",
   "execution_count": null,
   "metadata": {
    "colab": {
     "base_uri": "https://localhost:8080/",
     "height": 545
    },
    "id": "kYlKxjdCB8Dw",
    "outputId": "0231875e-9f1d-4f18-af02-5c227b91d896"
   },
   "outputs": [],
   "source": [
    "# Getting Accuracy of model\n",
    "\n",
    "acc = history.history['accuracy']\n",
    "val_acc = history.history['val_accuracy']\n",
    "loss = history.history['loss']\n",
    "val_loss = history.history['val_loss']\n",
    "\n",
    "epochs = range(len(acc))\n",
    "\n",
    "plt.plot(epochs, acc, 'y', label='Training accuracy')\n",
    "plt.plot(epochs, val_acc, 'b', label='Validation accuracy')\n",
    "plt.title('Training and validation accuracy')\n",
    "plt.legend()\n",
    "plt.figure()\n",
    "\n",
    "plt.plot(epochs, loss, 'y', label='Training Loss')\n",
    "plt.plot(epochs, val_loss, 'b', label='Validation Loss')\n",
    "plt.title('Training and validation loss')\n",
    "plt.legend()\n",
    "\n",
    "plt.show()"
   ]
  },
  {
   "cell_type": "code",
   "execution_count": null,
   "metadata": {
    "id": "E6GuOyQczB_b"
   },
   "outputs": [],
   "source": [
    "status = ['Mask','Without Mask']\n",
    "\n",
    "path = 'custom img/without.jpg'\n",
    "\n",
    "img = image.load_img(path, target_size=(50, 50))\n",
    "\n",
    "x = image.img_to_array(img)\n",
    "x = np.expand_dims(x, axis=0)\n",
    "\n",
    "output = model.predict(x)\n",
    "output = output[0][0]\n",
    "\n",
    "\n",
    "tag = int(output)\n",
    "\n",
    "print(status[tag])"
   ]
  }
 ],
 "metadata": {
  "colab": {
   "collapsed_sections": [],
   "name": "Trainer_mask_detector.ipynb",
   "provenance": []
  },
  "kernelspec": {
   "display_name": "Python 3",
   "language": "python",
   "name": "python3"
  },
  "language_info": {
   "codemirror_mode": {
    "name": "ipython",
    "version": 3
   },
   "file_extension": ".py",
   "mimetype": "text/x-python",
   "name": "python",
   "nbconvert_exporter": "python",
   "pygments_lexer": "ipython3",
   "version": "3.7.7"
  }
 },
 "nbformat": 4,
 "nbformat_minor": 1
}
